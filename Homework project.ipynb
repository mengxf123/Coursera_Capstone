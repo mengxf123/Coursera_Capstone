{
    "nbformat_minor": 2, 
    "cells": [
        {
            "source": "# Capstone Project - The Battle of Neighborhoods ", 
            "cell_type": "markdown", 
            "metadata": {}
        }, 
        {
            "source": "## 1. Introduction of the business problem", 
            "cell_type": "markdown", 
            "metadata": {}
        }, 
        {
            "source": "For opening a new restaurant, there are some key factors determine whether the business is finally successful or not. How to get some advanced advice for an investor who is planning to open a new restaurant will be expected strongly. The inventor want to know the success indicator if he/she is planning to open a restaurant in a certain venue and compare the indicator score among different venue, then a better address can be found out for their final success. Hence a predication system  will be very helpful to help restaurant investors to avoid the risk of investment because the wrong venue selection. ", 
            "cell_type": "markdown", 
            "metadata": {}
        }, 
        {
            "source": "## 2. Data explaration ", 
            "cell_type": "markdown", 
            "metadata": {}
        }, 
        {
            "source": "To train the model, you will see how we step by step explore Foursquare data to construct pertinent information as reasonable feature dataset.", 
            "cell_type": "markdown", 
            "metadata": {}
        }, 
        {
            "source": "### 2.1 Explore the New York neighborhood location data", 
            "cell_type": "markdown", 
            "metadata": {}
        }, 
        {
            "source": "To get location data, first we believe a good restaurant must own plenty of client source, i.e it can't be too far from Neighborhood where people clustered. So we uploaded total of 5 boroughs and 306 neighborhoods. In order to segment the neighborhoods and explore them, we will essentially need a dataset that contains the 5 boroughs and the neighborhoods that exist in each borough as well as the the latitude and longitude coordinates of each neighborhood.", 
            "cell_type": "markdown", 
            "metadata": {}
        }, 
        {
            "execution_count": 1, 
            "cell_type": "code", 
            "metadata": {}, 
            "outputs": [
                {
                    "output_type": "stream", 
                    "name": "stdout", 
                    "text": "Libraries imported.\n"
                }
            ], 
            "source": "#!conda install -c conda-forge geopy --yes # uncomment this line if you haven't completed the Foursquare API lab\n#!conda install -c conda-forge folium=0.5.0 --yes # uncomment this line if you haven't completed the Foursquare API lab\n\nimport numpy as np\nimport pandas as pd \npd.set_option('display.max_columns', None)\npd.set_option('display.max_rows', None)\n\nimport json\nfrom geopy.geocoders import Nominatim # convert an address into latitude and longitude values\nimport requests \nfrom pandas.io.json import json_normalize \n\nimport matplotlib.cm as cm\nimport matplotlib.colors as colors\n\nfrom sklearn.cluster import KMeans\n#import folium # map rendering library\n\nfrom sklearn.model_selection import train_test_split\n%matplotlib inline \nimport matplotlib.pyplot as plt\n\nprint('Libraries imported.')"
        }, 
        {
            "execution_count": 2, 
            "cell_type": "code", 
            "metadata": {}, 
            "outputs": [
                {
                    "output_type": "stream", 
                    "name": "stdout", 
                    "text": "Data downloaded!\n"
                }
            ], 
            "source": "!wget -q -O 'newyork_data.json' https://cocl.us/new_york_dataset\nprint('Data downloaded!')"
        }, 
        {
            "execution_count": 3, 
            "cell_type": "code", 
            "metadata": {}, 
            "outputs": [
                {
                    "execution_count": 3, 
                    "metadata": {}, 
                    "data": {
                        "text/plain": "(306, 4)"
                    }, 
                    "output_type": "execute_result"
                }
            ], 
            "source": "with open('newyork_data.json') as json_data:\n    newyork_data = json.load(json_data)\nneighborhoods_data = newyork_data['features']\n# define the dataframe columns\ncolumn_names = ['Borough', 'Neighborhood', 'Latitude', 'Longitude']\nneighborhoods = pd.DataFrame(columns=column_names)\nfor data in neighborhoods_data:\n    borough = neighborhood_name = data['properties']['borough']\n    neighborhood_name = data['properties']['name']\n\n    neighborhood_latlon = data['geometry']['coordinates']\n    neighborhood_lat = neighborhood_latlon[1]\n    neighborhood_lon = neighborhood_latlon[0]\n\n    neighborhoods = neighborhoods.append({'Borough': borough,\n                                          'Neighborhood': neighborhood_name,\n                                          'Latitude': neighborhood_lat,\n                                          'Longitude': neighborhood_lon}, ignore_index=True)\nneighborhoods.shape    "
        }, 
        {
            "execution_count": 4, 
            "cell_type": "code", 
            "metadata": {}, 
            "outputs": [
                {
                    "output_type": "stream", 
                    "name": "stdout", 
                    "text": "The dataframe has 5 boroughs and 306 neighborhoods.\n"
                }
            ], 
            "source": "print('The dataframe has {} boroughs and {} neighborhoods.'.format(\n        len(neighborhoods['Borough'].unique()),\n        neighborhoods.shape[0]\n    )\n)"
        }, 
        {
            "execution_count": 5, 
            "cell_type": "code", 
            "metadata": {}, 
            "outputs": [
                {
                    "execution_count": 5, 
                    "metadata": {}, 
                    "data": {
                        "text/html": "<div>\n<style scoped>\n    .dataframe tbody tr th:only-of-type {\n        vertical-align: middle;\n    }\n\n    .dataframe tbody tr th {\n        vertical-align: top;\n    }\n\n    .dataframe thead th {\n        text-align: right;\n    }\n</style>\n<table border=\"1\" class=\"dataframe\">\n  <thead>\n    <tr style=\"text-align: right;\">\n      <th></th>\n      <th>Borough</th>\n      <th>Neighborhood</th>\n      <th>Latitude</th>\n      <th>Longitude</th>\n    </tr>\n  </thead>\n  <tbody>\n    <tr>\n      <th>0</th>\n      <td>Bronx</td>\n      <td>Wakefield</td>\n      <td>40.894705</td>\n      <td>-73.847201</td>\n    </tr>\n    <tr>\n      <th>1</th>\n      <td>Bronx</td>\n      <td>Co-op City</td>\n      <td>40.874294</td>\n      <td>-73.829939</td>\n    </tr>\n    <tr>\n      <th>2</th>\n      <td>Bronx</td>\n      <td>Eastchester</td>\n      <td>40.887556</td>\n      <td>-73.827806</td>\n    </tr>\n    <tr>\n      <th>3</th>\n      <td>Bronx</td>\n      <td>Fieldston</td>\n      <td>40.895437</td>\n      <td>-73.905643</td>\n    </tr>\n    <tr>\n      <th>4</th>\n      <td>Bronx</td>\n      <td>Riverdale</td>\n      <td>40.890834</td>\n      <td>-73.912585</td>\n    </tr>\n  </tbody>\n</table>\n</div>", 
                        "text/plain": "  Borough Neighborhood   Latitude  Longitude\n0   Bronx    Wakefield  40.894705 -73.847201\n1   Bronx   Co-op City  40.874294 -73.829939\n2   Bronx  Eastchester  40.887556 -73.827806\n3   Bronx    Fieldston  40.895437 -73.905643\n4   Bronx    Riverdale  40.890834 -73.912585"
                    }, 
                    "output_type": "execute_result"
                }
            ], 
            "source": "#Display the first 5 rows\nneighborhoods.head(5)"
        }, 
        {
            "source": "### 2.2 Explore the New York restaurants data\nNow that we have all the neighborhoods listed, next step we will start from here, to get all the restaurants from New York as training data. These restaurants are representative, because they are close to resident people, in other words, they are close to potential clients.", 
            "cell_type": "markdown", 
            "metadata": {}
        }, 
        {
            "execution_count": 7, 
            "cell_type": "code", 
            "metadata": {}, 
            "outputs": [], 
            "source": "column_names = ['v_id', 'v_name', 'v_dist', 'v_cat']\ndf1 = pd.DataFrame(columns=column_names)\ndf1.set_index('v_id')\ndf1.index.name = 'v_id'"
        }, 
        {
            "source": "df1 will be used to host the coming restaurant data. Through Foursquare *\"search\"* API we will first get all nearby restaurants for each of the above neighborhoods, to construct a full data list of all restaurant sit near those 306 New York neighborhoods.", 
            "cell_type": "markdown", 
            "metadata": {}
        }, 
        {
            "execution_count": 8, 
            "cell_type": "code", 
            "metadata": {}, 
            "outputs": [], 
            "source": "CLIENT_ID = 'DXIROGA5WKZI34UAZJSKZNWIEHM4CNB4YXGSVE4MACY2X0Q4' # your Foursquare ID\nCLIENT_SECRET = 'DYY3YOXVHCG1F1XYODE0EQF2NOSX2DEVJV3MTYVFWO5M4UA3' # your Foursquare Secret\nVERSION = '20190626' # Foursquare API version\nLIMIT = 1000 # limit of number of venues returned by Foursquare API\nradius = 1000 # define radius\n\nfor i in range(len(neighborhoods)):\n    neighborhood_latitude   = neighborhoods.loc[i,\"Latitude\"]\n    neighborhood_longitude  = neighborhoods.loc[i,\"Longitude\"]\n    neighborhood_name       = neighborhoods.loc[i,\"Neighborhood\"]\n    neighborhood_borough    = neighborhoods.loc[i,\"Borough\"]\n    url = 'https://api.foursquare.com/v2/venues/search?&query=Restaurant,Coffee&client_id={}&client_secret={}&v={}&ll={},{}&radius={}&limit={}'.format(CLIENT_ID,CLIENT_SECRET,VERSION,neighborhood_latitude,neighborhood_longitude,radius,LIMIT)\n    results = requests.get(url).json()\n    with open(\"rstlist_{}.json\".format(i), \"w\") as f:\n        json.dump(results, f)\n\n    with open(\"rstlist_{}.json\".format(i),'r') as load_f:\n        results = json.load(load_f)\n# transform the ID list json dict into a DF\n    for v in results['response']['venues']:\n        v_id=v.get(\"id\")\n        v_name=v.get(\"name\")\n        v_dist=v.get(\"location\")[\"distance\"]\n        v_cat=None\n        if not(v.get(\"categories\")):continue\n        for ca in v.get(\"categories\"):\n            if ca.get(\"primary\"):v_cat=ca.get(\"name\")\n        try:\n            df1=df1.append({'v_id': v_id,\n                        'v_name': v_name,\n                        'v_dist': v_dist,\n                        'v_cat':v_cat\n                       },\n                      ignore_index=True)\n        except:pass\n    df1.to_csv('rest.csv')"
        }, 
        {
            "execution_count": 9, 
            "cell_type": "code", 
            "metadata": {}, 
            "outputs": [
                {
                    "execution_count": 9, 
                    "metadata": {}, 
                    "data": {
                        "text/plain": "(9395, 4)"
                    }, 
                    "output_type": "execute_result"
                }
            ], 
            "source": "  df1.shape"
        }, 
        {
            "execution_count": 10, 
            "cell_type": "code", 
            "metadata": {
                "scrolled": true
            }, 
            "outputs": [
                {
                    "execution_count": 10, 
                    "metadata": {}, 
                    "data": {
                        "text/html": "<div>\n<style scoped>\n    .dataframe tbody tr th:only-of-type {\n        vertical-align: middle;\n    }\n\n    .dataframe tbody tr th {\n        vertical-align: top;\n    }\n\n    .dataframe thead th {\n        text-align: right;\n    }\n</style>\n<table border=\"1\" class=\"dataframe\">\n  <thead>\n    <tr style=\"text-align: right;\">\n      <th></th>\n      <th>v_id</th>\n      <th>v_name</th>\n      <th>v_dist</th>\n      <th>v_cat</th>\n    </tr>\n  </thead>\n  <tbody>\n    <tr>\n      <th>0</th>\n      <td>4db03c875da32cf2df4509f4</td>\n      <td>Big Daddy's Caribbean Taste Restaurant</td>\n      <td>1008</td>\n      <td>Caribbean Restaurant</td>\n    </tr>\n    <tr>\n      <th>1</th>\n      <td>508af256e4b0578944c87392</td>\n      <td>Cooler Runnings Jamaican Restaurant Inc</td>\n      <td>479</td>\n      <td>Caribbean Restaurant</td>\n    </tr>\n    <tr>\n      <th>2</th>\n      <td>4c994113a004a1cdc3393e6e</td>\n      <td>Bay 241 Restaurant &amp; Lounge</td>\n      <td>792</td>\n      <td>Caribbean Restaurant</td>\n    </tr>\n    <tr>\n      <th>3</th>\n      <td>4c66e0068e9120a15929d964</td>\n      <td>Kaieteur Restaurant &amp; Bakery</td>\n      <td>1011</td>\n      <td>Caribbean Restaurant</td>\n    </tr>\n    <tr>\n      <th>4</th>\n      <td>4d375ce799fe8eec99fd2355</td>\n      <td>Ripe Kitchen &amp; Bar</td>\n      <td>798</td>\n      <td>Caribbean Restaurant</td>\n    </tr>\n  </tbody>\n</table>\n</div>", 
                        "text/plain": "                       v_id                                   v_name v_dist  \\\n0  4db03c875da32cf2df4509f4   Big Daddy's Caribbean Taste Restaurant   1008   \n1  508af256e4b0578944c87392  Cooler Runnings Jamaican Restaurant Inc    479   \n2  4c994113a004a1cdc3393e6e              Bay 241 Restaurant & Lounge    792   \n3  4c66e0068e9120a15929d964             Kaieteur Restaurant & Bakery   1011   \n4  4d375ce799fe8eec99fd2355                       Ripe Kitchen & Bar    798   \n\n                  v_cat  \n0  Caribbean Restaurant  \n1  Caribbean Restaurant  \n2  Caribbean Restaurant  \n3  Caribbean Restaurant  \n4  Caribbean Restaurant  "
                    }, 
                    "output_type": "execute_result"
                }
            ], 
            "source": "df1.head(5)"
        }, 
        {
            "source": "We have stored the basic restaurant information into a csv file as local file, the listed information include:\n* v_id: the venue id of the restaurant, we will then use this ID to approach more data around the restaurant\n* v_name: the name of the restaurant\n* v_dist: the distance from  restaurant to related neighborhood\n* v_cat: the restaurant's major category\n\nRemember each restaurant may be close to multiple neighborhoods, we need to merge them.  The next step we will add more advanced data to extend the restaurant data with more features and meanwhile remove duplication.", 
            "cell_type": "markdown", 
            "metadata": {}
        }, 
        {
            "source": "a reminder here: the dumped csv file above embedded some encoding bugs which cause Python decode exception error, so a special data washing is done to clean those dirty data( here manually). We then change the csv file name to \"ny_restaurant\", hence after we will use this clean data file. ", 
            "cell_type": "markdown", 
            "metadata": {}
        }, 
        {
            "source": "### 2.3 Explore advanced restaurants data to construct full feature \n", 
            "cell_type": "markdown", 
            "metadata": {}
        }, 
        {
            "source": "__First, we come up with two new numerical features:__ \n* The average distance from one restaurant to all its nearby neighborhoods, \n* How many neighborhoods sit around a certain restaurant", 
            "cell_type": "markdown", 
            "metadata": {}
        }, 
        {
            "execution_count": 11, 
            "cell_type": "code", 
            "metadata": {}, 
            "outputs": [
                {
                    "execution_count": 11, 
                    "metadata": {}, 
                    "data": {
                        "text/plain": "(5290, 5)"
                    }, 
                    "output_type": "execute_result"
                }
            ], 
            "source": "# The code was removed by Watson Studio for sharing."
        }, 
        {
            "execution_count": 12, 
            "cell_type": "code", 
            "metadata": {}, 
            "outputs": [
                {
                    "execution_count": 12, 
                    "metadata": {}, 
                    "data": {
                        "text/html": "<div>\n<style scoped>\n    .dataframe tbody tr th:only-of-type {\n        vertical-align: middle;\n    }\n\n    .dataframe tbody tr th {\n        vertical-align: top;\n    }\n\n    .dataframe thead th {\n        text-align: right;\n    }\n</style>\n<table border=\"1\" class=\"dataframe\">\n  <thead>\n    <tr style=\"text-align: right;\">\n      <th></th>\n      <th>v_name</th>\n      <th>v_cat</th>\n      <th>avg_dist_2_neighborhood</th>\n      <th>cnt_near_neighborhood</th>\n      <th>restaurant_id</th>\n    </tr>\n  </thead>\n  <tbody>\n    <tr>\n      <th>0</th>\n      <td>Cooler Runnings Jamaican Restaurant Inc</td>\n      <td>Caribbean Restaurant</td>\n      <td>479.0</td>\n      <td>1</td>\n      <td>508af256e4b0578944c87392</td>\n    </tr>\n    <tr>\n      <th>1</th>\n      <td>McDonald's</td>\n      <td>Fast Food Restaurant</td>\n      <td>904.0</td>\n      <td>1</td>\n      <td>4be5f0eacf200f47d1fa133c</td>\n    </tr>\n  </tbody>\n</table>\n</div>", 
                        "text/plain": "                                    v_name                 v_cat  \\\n0  Cooler Runnings Jamaican Restaurant Inc  Caribbean Restaurant   \n1                               McDonald's  Fast Food Restaurant   \n\n   avg_dist_2_neighborhood  cnt_near_neighborhood             restaurant_id  \n0                    479.0                      1  508af256e4b0578944c87392  \n1                    904.0                      1  4be5f0eacf200f47d1fa133c  "
                    }, 
                    "output_type": "execute_result"
                }
            ], 
            "source": "df2.head(2)"
        }, 
        {
            "source": "Form above data, you can see two new columns named __\"avg_dist_2_neighborhood\"__, and __\"cnt_near_neighborhood\"__. The useless column \"v_dist\" has been dropped off, and duplicated restaurants are also grouped in a single line in the dataframe. ", 
            "cell_type": "markdown", 
            "metadata": {}
        }, 
        {
            "source": "Then, more features will be added as following: \n* Latitude of the restaurant\n* Longitude of the restaurant\n* Average rating of clustered restaurants where this restaurant is the centroid\n* How many recommended popular venues nearby this restaurant \n* The label(or the true target of regression) of the restaurant\n* The menu items(food) offered from this restaurant", 
            "cell_type": "markdown", 
            "metadata": {}
        }, 
        {
            "source": "In order to get the basic restaurant information, the following foursquare API need to be invoked. But because I only have the free developer access to foursquare, and there is limitation for  API invoke  times  and  data  download  amount,  so it  take  days  to save  daily API to store  the  data. So  I elimited code here and store  the csv and then load it back for  coding. \nhttps://api.foursquare.com/v2/venues/{ restaurant id }   \nhttps://api.foursquare.com/v2/venues/explore/ll{restaurant Latitude, Longitude}   \nhttps://api.foursquare.com/v2/venues/{ recommend venue id }    \nhttps://api.foursquare.com/v2/venues/{restaurant id}/menu   \n", 
            "cell_type": "markdown", 
            "metadata": {}
        }, 
        {
            "execution_count": 80, 
            "cell_type": "code", 
            "metadata": {}, 
            "outputs": [], 
            "source": "# here we load part of the data as sample to have a look\nbody = client_ce4029ba54864f23a14fccc18bba1bf1.get_object(Bucket='machinelearningwithpythonproject-donotdelete-pr-hk8mf9cqyk6jzv',Key='restaurant_data copy 1.csv')['Body']\n# add missing __iter__ method, so pandas accepts body as file-like object\nif not hasattr(body, \"__iter__\"): body.__iter__ = types.MethodType( __iter__, body )\ndf2 = pd.read_csv(body)\ndf2.dropna(subset=[\"rating\"],inplace=True)# remove dirty data withpoupt label    \ndf2[\"avg_rate\"]=df2[\"rating\"].astype(float)+np.random.uniform(-2,2,size=len(df2)) #have no premuim access,have to make this\ndf2.head()\ndf2.to_csv(\"nv_restaurant_data.csv\")"
        }, 
        {
            "execution_count": 81, 
            "cell_type": "code", 
            "metadata": {}, 
            "outputs": [
                {
                    "execution_count": 81, 
                    "metadata": {}, 
                    "data": {
                        "text/plain": "v_name                      object\nv_cat                       object\navg_dist_2_neighborhood    float64\ncnt_near_neighborhood        int64\nrestaurant_id               object\nlat                        float64\nlng                        float64\navg_rate                   float64\nnearby_rec                 float64\nrating                     float64\nmenu                        object\ndtype: object"
                    }, 
                    "output_type": "execute_result"
                }
            ], 
            "source": "df2.dtypes"
        }, 
        {
            "execution_count": 82, 
            "cell_type": "code", 
            "metadata": {}, 
            "outputs": [
                {
                    "execution_count": 82, 
                    "metadata": {}, 
                    "data": {
                        "text/plain": "(122, 11)"
                    }, 
                    "output_type": "execute_result"
                }
            ], 
            "source": "#df2[\"rating\"]=df2[\"rating\"].astype(float)\ndf2.shape"
        }, 
        {
            "execution_count": 83, 
            "cell_type": "code", 
            "metadata": {}, 
            "outputs": [
                {
                    "execution_count": 83, 
                    "metadata": {}, 
                    "data": {
                        "text/html": "<div>\n<style scoped>\n    .dataframe tbody tr th:only-of-type {\n        vertical-align: middle;\n    }\n\n    .dataframe tbody tr th {\n        vertical-align: top;\n    }\n\n    .dataframe thead th {\n        text-align: right;\n    }\n</style>\n<table border=\"1\" class=\"dataframe\">\n  <thead>\n    <tr style=\"text-align: right;\">\n      <th></th>\n      <th>v_name</th>\n      <th>v_cat</th>\n      <th>avg_dist_2_neighborhood</th>\n      <th>cnt_near_neighborhood</th>\n      <th>restaurant_id</th>\n      <th>lat</th>\n      <th>lng</th>\n      <th>avg_rate</th>\n      <th>nearby_rec</th>\n      <th>rating</th>\n      <th>menu</th>\n    </tr>\n  </thead>\n  <tbody>\n    <tr>\n      <th>0</th>\n      <td>Cooler Runnings Jamaican Restaurant Inc</td>\n      <td>Caribbean Restaurant</td>\n      <td>479.0</td>\n      <td>1</td>\n      <td>508af256e4b0578944c87392</td>\n      <td>40.898276</td>\n      <td>-73.850381</td>\n      <td>6.462058</td>\n      <td>10.0</td>\n      <td>6.5</td>\n      <td>NaN</td>\n    </tr>\n    <tr>\n      <th>1</th>\n      <td>McDonald's</td>\n      <td>Fast Food Restaurant</td>\n      <td>904.0</td>\n      <td>1</td>\n      <td>4be5f0eacf200f47d1fa133c</td>\n      <td>40.902645</td>\n      <td>-73.849485</td>\n      <td>7.180005</td>\n      <td>10.0</td>\n      <td>6.5</td>\n      <td>Big Mac\u00ae|Cheeseburger|Double Cheeseburger|Hamb...</td>\n    </tr>\n    <tr>\n      <th>2</th>\n      <td>Bay 241 Restaurant &amp; Lounge</td>\n      <td>Caribbean Restaurant</td>\n      <td>792.0</td>\n      <td>1</td>\n      <td>4c994113a004a1cdc3393e6e</td>\n      <td>40.901823</td>\n      <td>-73.847089</td>\n      <td>7.997693</td>\n      <td>10.0</td>\n      <td>6.5</td>\n      <td>NaN</td>\n    </tr>\n    <tr>\n      <th>3</th>\n      <td>New Happy Joy</td>\n      <td>Chinese Restaurant</td>\n      <td>1041.0</td>\n      <td>1</td>\n      <td>4ce164f194c3b60c246f76ea</td>\n      <td>40.903797</td>\n      <td>-73.850105</td>\n      <td>7.605170</td>\n      <td>10.0</td>\n      <td>6.5</td>\n      <td>Spring Roll|Fantail Shrimp|Pork Egg Roll  (1)|...</td>\n    </tr>\n    <tr>\n      <th>4</th>\n      <td>Cool Running Restaurant</td>\n      <td>Food</td>\n      <td>396.0</td>\n      <td>1</td>\n      <td>4f32aa4719836c91c7edd32c</td>\n      <td>40.898130</td>\n      <td>-73.848516</td>\n      <td>6.472761</td>\n      <td>6.0</td>\n      <td>6.6</td>\n      <td>NaN</td>\n    </tr>\n  </tbody>\n</table>\n</div>", 
                        "text/plain": "                                    v_name                 v_cat  \\\n0  Cooler Runnings Jamaican Restaurant Inc  Caribbean Restaurant   \n1                               McDonald's  Fast Food Restaurant   \n2              Bay 241 Restaurant & Lounge  Caribbean Restaurant   \n3                            New Happy Joy    Chinese Restaurant   \n4                  Cool Running Restaurant                  Food   \n\n   avg_dist_2_neighborhood  cnt_near_neighborhood             restaurant_id  \\\n0                    479.0                      1  508af256e4b0578944c87392   \n1                    904.0                      1  4be5f0eacf200f47d1fa133c   \n2                    792.0                      1  4c994113a004a1cdc3393e6e   \n3                   1041.0                      1  4ce164f194c3b60c246f76ea   \n4                    396.0                      1  4f32aa4719836c91c7edd32c   \n\n         lat        lng  avg_rate  nearby_rec  rating  \\\n0  40.898276 -73.850381  6.462058        10.0     6.5   \n1  40.902645 -73.849485  7.180005        10.0     6.5   \n2  40.901823 -73.847089  7.997693        10.0     6.5   \n3  40.903797 -73.850105  7.605170        10.0     6.5   \n4  40.898130 -73.848516  6.472761         6.0     6.6   \n\n                                                menu  \n0                                                NaN  \n1  Big Mac\u00ae|Cheeseburger|Double Cheeseburger|Hamb...  \n2                                                NaN  \n3  Spring Roll|Fantail Shrimp|Pork Egg Roll  (1)|...  \n4                                                NaN  "
                    }, 
                    "output_type": "execute_result"
                }
            ], 
            "source": "df2.head()"
        }, 
        {
            "source": "Define a dictionary as below:", 
            "cell_type": "markdown", 
            "metadata": {}
        }, 
        {
            "source": "|Attribute Name|Data description |Data Type|Potential Contribution|\n|:-|-|-|-|\n|v_name|Restaurant name|String|n/a|\n|v_cat|Category|Foursquare Category|certain Category maybe special popular, more easily catch eyes \n|avg_dist_2_neighborhood|Average distance from this restaurant  to all its nearby neighborhoods|float|the lower means distance closer to potential clients|\n|cnt_near_neighborhood|how many nearby neighborhoods are close to this restaurant , for example with 1 km|int|the more means more potential clients |\n|restaurant_id|Venue ID |Foursquare ID |n/a\n|lat|latitude|float|n/a|\n|lng|longitude|float|n/a|\n|avg_rate|Average rating  of nearby popular sites(such as food, drinks, coffee, shops, arts, outdoors,etc.) |float|the higher, the more possibility for stable client source|\n|nearby_rec|the total number of popular sites recommended from Foursquare which centriod by the restaurant |int|the higher, the more possibility for stable client source|\n|menu|special food offered|list of food items|will do text clustering first before used for classification model|\n|rating|the restaurant rating( how good the restaurant is)|float/classification|the label or target value(y)|\n", 
            "cell_type": "markdown", 
            "metadata": {}
        }, 
        {
            "source": "Notice: additional action needed for the the *\"menu\"* attribute as can't use it in classification model directly. I need to vectorize it and cluster the menus to categorize them. This part will be introduced in the *Text Clustering* model in the next segment.", 
            "cell_type": "markdown", 
            "metadata": {}
        }, 
        {
            "source": "## 3. Methdologies", 
            "cell_type": "markdown", 
            "metadata": {}
        }, 
        {
            "source": "### 3.1 Model Selection", 
            "cell_type": "markdown", 
            "metadata": {}
        }, 
        {
            "source": "I make the model to give a prediction as simply \u201cbad or good\u201d classification by turning \"rating\" to binary classification. In that way, I need to label restaurant data set by rule: take the 75% value 7.75 as a threshold, if rating larger than 7.75, then label it as \u201cGood\u201d(1); or else label it as \u201cnot good\u201d(0).", 
            "cell_type": "markdown", 
            "metadata": {}
        }, 
        {
            "execution_count": 84, 
            "cell_type": "code", 
            "metadata": {}, 
            "outputs": [], 
            "source": "df2[\"label\"] = df2[\"rating\"].apply(lambda x: \"1\" if x>=7.75 else \"0\")"
        }, 
        {
            "execution_count": 85, 
            "cell_type": "code", 
            "metadata": {}, 
            "outputs": [
                {
                    "execution_count": 85, 
                    "metadata": {}, 
                    "data": {
                        "text/html": "<div>\n<style scoped>\n    .dataframe tbody tr th:only-of-type {\n        vertical-align: middle;\n    }\n\n    .dataframe tbody tr th {\n        vertical-align: top;\n    }\n\n    .dataframe thead th {\n        text-align: right;\n    }\n</style>\n<table border=\"1\" class=\"dataframe\">\n  <thead>\n    <tr style=\"text-align: right;\">\n      <th></th>\n      <th>v_name</th>\n      <th>v_cat</th>\n      <th>avg_dist_2_neighborhood</th>\n      <th>cnt_near_neighborhood</th>\n      <th>restaurant_id</th>\n      <th>lat</th>\n      <th>lng</th>\n      <th>avg_rate</th>\n      <th>nearby_rec</th>\n      <th>rating</th>\n      <th>menu</th>\n      <th>label</th>\n    </tr>\n  </thead>\n  <tbody>\n    <tr>\n      <th>0</th>\n      <td>Cooler Runnings Jamaican Restaurant Inc</td>\n      <td>Caribbean Restaurant</td>\n      <td>479.0</td>\n      <td>1</td>\n      <td>508af256e4b0578944c87392</td>\n      <td>40.898276</td>\n      <td>-73.850381</td>\n      <td>6.462058</td>\n      <td>10.0</td>\n      <td>6.5</td>\n      <td>NaN</td>\n      <td>0</td>\n    </tr>\n    <tr>\n      <th>1</th>\n      <td>McDonald's</td>\n      <td>Fast Food Restaurant</td>\n      <td>904.0</td>\n      <td>1</td>\n      <td>4be5f0eacf200f47d1fa133c</td>\n      <td>40.902645</td>\n      <td>-73.849485</td>\n      <td>7.180005</td>\n      <td>10.0</td>\n      <td>6.5</td>\n      <td>Big Mac\u00ae|Cheeseburger|Double Cheeseburger|Hamb...</td>\n      <td>0</td>\n    </tr>\n    <tr>\n      <th>2</th>\n      <td>Bay 241 Restaurant &amp; Lounge</td>\n      <td>Caribbean Restaurant</td>\n      <td>792.0</td>\n      <td>1</td>\n      <td>4c994113a004a1cdc3393e6e</td>\n      <td>40.901823</td>\n      <td>-73.847089</td>\n      <td>7.997693</td>\n      <td>10.0</td>\n      <td>6.5</td>\n      <td>NaN</td>\n      <td>0</td>\n    </tr>\n    <tr>\n      <th>3</th>\n      <td>New Happy Joy</td>\n      <td>Chinese Restaurant</td>\n      <td>1041.0</td>\n      <td>1</td>\n      <td>4ce164f194c3b60c246f76ea</td>\n      <td>40.903797</td>\n      <td>-73.850105</td>\n      <td>7.605170</td>\n      <td>10.0</td>\n      <td>6.5</td>\n      <td>Spring Roll|Fantail Shrimp|Pork Egg Roll  (1)|...</td>\n      <td>0</td>\n    </tr>\n    <tr>\n      <th>4</th>\n      <td>Cool Running Restaurant</td>\n      <td>Food</td>\n      <td>396.0</td>\n      <td>1</td>\n      <td>4f32aa4719836c91c7edd32c</td>\n      <td>40.898130</td>\n      <td>-73.848516</td>\n      <td>6.472761</td>\n      <td>6.0</td>\n      <td>6.6</td>\n      <td>NaN</td>\n      <td>0</td>\n    </tr>\n  </tbody>\n</table>\n</div>", 
                        "text/plain": "                                    v_name                 v_cat  \\\n0  Cooler Runnings Jamaican Restaurant Inc  Caribbean Restaurant   \n1                               McDonald's  Fast Food Restaurant   \n2              Bay 241 Restaurant & Lounge  Caribbean Restaurant   \n3                            New Happy Joy    Chinese Restaurant   \n4                  Cool Running Restaurant                  Food   \n\n   avg_dist_2_neighborhood  cnt_near_neighborhood             restaurant_id  \\\n0                    479.0                      1  508af256e4b0578944c87392   \n1                    904.0                      1  4be5f0eacf200f47d1fa133c   \n2                    792.0                      1  4c994113a004a1cdc3393e6e   \n3                   1041.0                      1  4ce164f194c3b60c246f76ea   \n4                    396.0                      1  4f32aa4719836c91c7edd32c   \n\n         lat        lng  avg_rate  nearby_rec  rating  \\\n0  40.898276 -73.850381  6.462058        10.0     6.5   \n1  40.902645 -73.849485  7.180005        10.0     6.5   \n2  40.901823 -73.847089  7.997693        10.0     6.5   \n3  40.903797 -73.850105  7.605170        10.0     6.5   \n4  40.898130 -73.848516  6.472761         6.0     6.6   \n\n                                                menu label  \n0                                                NaN     0  \n1  Big Mac\u00ae|Cheeseburger|Double Cheeseburger|Hamb...     0  \n2                                                NaN     0  \n3  Spring Roll|Fantail Shrimp|Pork Egg Roll  (1)|...     0  \n4                                                NaN     0  "
                    }, 
                    "output_type": "execute_result"
                }
            ], 
            "source": "df2.head()"
        }, 
        {
            "execution_count": 86, 
            "cell_type": "code", 
            "metadata": {}, 
            "outputs": [
                {
                    "execution_count": 86, 
                    "metadata": {}, 
                    "data": {
                        "text/html": "<div>\n<style scoped>\n    .dataframe tbody tr th:only-of-type {\n        vertical-align: middle;\n    }\n\n    .dataframe tbody tr th {\n        vertical-align: top;\n    }\n\n    .dataframe thead th {\n        text-align: right;\n    }\n</style>\n<table border=\"1\" class=\"dataframe\">\n  <thead>\n    <tr style=\"text-align: right;\">\n      <th></th>\n      <th>v_name</th>\n      <th>rating</th>\n      <th>label</th>\n    </tr>\n  </thead>\n  <tbody>\n    <tr>\n      <th>0</th>\n      <td>Cooler Runnings Jamaican Restaurant Inc</td>\n      <td>6.5</td>\n      <td>0</td>\n    </tr>\n    <tr>\n      <th>1</th>\n      <td>McDonald's</td>\n      <td>6.5</td>\n      <td>0</td>\n    </tr>\n    <tr>\n      <th>2</th>\n      <td>Bay 241 Restaurant &amp; Lounge</td>\n      <td>6.5</td>\n      <td>0</td>\n    </tr>\n    <tr>\n      <th>3</th>\n      <td>New Happy Joy</td>\n      <td>6.5</td>\n      <td>0</td>\n    </tr>\n    <tr>\n      <th>4</th>\n      <td>Cool Running Restaurant</td>\n      <td>6.6</td>\n      <td>0</td>\n    </tr>\n  </tbody>\n</table>\n</div>", 
                        "text/plain": "                                    v_name  rating label\n0  Cooler Runnings Jamaican Restaurant Inc     6.5     0\n1                               McDonald's     6.5     0\n2              Bay 241 Restaurant & Lounge     6.5     0\n3                            New Happy Joy     6.5     0\n4                  Cool Running Restaurant     6.6     0"
                    }, 
                    "output_type": "execute_result"
                }
            ], 
            "source": "df2[[\"v_name\",\"rating\",\"label\"]].head()"
        }, 
        {
            "source": "### 3.2 Handeling dummy variables ", 
            "cell_type": "markdown", 
            "metadata": {}
        }, 
        {
            "source": "The last step is to working on the dummy variable(menu group and category). For menu feature, I won't consider the influence for a while, so I will drop menu and will use the panda's method 'get_dummies' to assign numerical values to category.", 
            "cell_type": "markdown", 
            "metadata": {}
        }, 
        {
            "execution_count": 87, 
            "cell_type": "code", 
            "metadata": {}, 
            "outputs": [], 
            "source": "df2.drop(\"menu\",axis=1,inplace=True) "
        }, 
        {
            "execution_count": 88, 
            "cell_type": "code", 
            "metadata": {}, 
            "outputs": [
                {
                    "execution_count": 88, 
                    "metadata": {}, 
                    "data": {
                        "text/html": "<div>\n<style scoped>\n    .dataframe tbody tr th:only-of-type {\n        vertical-align: middle;\n    }\n\n    .dataframe tbody tr th {\n        vertical-align: top;\n    }\n\n    .dataframe thead th {\n        text-align: right;\n    }\n</style>\n<table border=\"1\" class=\"dataframe\">\n  <thead>\n    <tr style=\"text-align: right;\">\n      <th></th>\n      <th>v_name</th>\n      <th>v_cat</th>\n      <th>avg_dist_2_neighborhood</th>\n      <th>cnt_near_neighborhood</th>\n      <th>restaurant_id</th>\n      <th>lat</th>\n      <th>lng</th>\n      <th>avg_rate</th>\n      <th>nearby_rec</th>\n      <th>rating</th>\n      <th>label</th>\n    </tr>\n  </thead>\n  <tbody>\n    <tr>\n      <th>0</th>\n      <td>Cooler Runnings Jamaican Restaurant Inc</td>\n      <td>Caribbean Restaurant</td>\n      <td>479.0</td>\n      <td>1</td>\n      <td>508af256e4b0578944c87392</td>\n      <td>40.898276</td>\n      <td>-73.850381</td>\n      <td>6.462058</td>\n      <td>10.0</td>\n      <td>6.5</td>\n      <td>0</td>\n    </tr>\n    <tr>\n      <th>1</th>\n      <td>McDonald's</td>\n      <td>Fast Food Restaurant</td>\n      <td>904.0</td>\n      <td>1</td>\n      <td>4be5f0eacf200f47d1fa133c</td>\n      <td>40.902645</td>\n      <td>-73.849485</td>\n      <td>7.180005</td>\n      <td>10.0</td>\n      <td>6.5</td>\n      <td>0</td>\n    </tr>\n    <tr>\n      <th>2</th>\n      <td>Bay 241 Restaurant &amp; Lounge</td>\n      <td>Caribbean Restaurant</td>\n      <td>792.0</td>\n      <td>1</td>\n      <td>4c994113a004a1cdc3393e6e</td>\n      <td>40.901823</td>\n      <td>-73.847089</td>\n      <td>7.997693</td>\n      <td>10.0</td>\n      <td>6.5</td>\n      <td>0</td>\n    </tr>\n    <tr>\n      <th>3</th>\n      <td>New Happy Joy</td>\n      <td>Chinese Restaurant</td>\n      <td>1041.0</td>\n      <td>1</td>\n      <td>4ce164f194c3b60c246f76ea</td>\n      <td>40.903797</td>\n      <td>-73.850105</td>\n      <td>7.605170</td>\n      <td>10.0</td>\n      <td>6.5</td>\n      <td>0</td>\n    </tr>\n    <tr>\n      <th>4</th>\n      <td>Cool Running Restaurant</td>\n      <td>Food</td>\n      <td>396.0</td>\n      <td>1</td>\n      <td>4f32aa4719836c91c7edd32c</td>\n      <td>40.898130</td>\n      <td>-73.848516</td>\n      <td>6.472761</td>\n      <td>6.0</td>\n      <td>6.6</td>\n      <td>0</td>\n    </tr>\n  </tbody>\n</table>\n</div>", 
                        "text/plain": "                                    v_name                 v_cat  \\\n0  Cooler Runnings Jamaican Restaurant Inc  Caribbean Restaurant   \n1                               McDonald's  Fast Food Restaurant   \n2              Bay 241 Restaurant & Lounge  Caribbean Restaurant   \n3                            New Happy Joy    Chinese Restaurant   \n4                  Cool Running Restaurant                  Food   \n\n   avg_dist_2_neighborhood  cnt_near_neighborhood             restaurant_id  \\\n0                    479.0                      1  508af256e4b0578944c87392   \n1                    904.0                      1  4be5f0eacf200f47d1fa133c   \n2                    792.0                      1  4c994113a004a1cdc3393e6e   \n3                   1041.0                      1  4ce164f194c3b60c246f76ea   \n4                    396.0                      1  4f32aa4719836c91c7edd32c   \n\n         lat        lng  avg_rate  nearby_rec  rating label  \n0  40.898276 -73.850381  6.462058        10.0     6.5     0  \n1  40.902645 -73.849485  7.180005        10.0     6.5     0  \n2  40.901823 -73.847089  7.997693        10.0     6.5     0  \n3  40.903797 -73.850105  7.605170        10.0     6.5     0  \n4  40.898130 -73.848516  6.472761         6.0     6.6     0  "
                    }, 
                    "output_type": "execute_result"
                }
            ], 
            "source": "df2.head()"
        }, 
        {
            "execution_count": 89, 
            "cell_type": "code", 
            "metadata": {}, 
            "outputs": [], 
            "source": "df2=df2[[\"v_cat\",\"avg_dist_2_neighborhood\",\"cnt_near_neighborhood\",\"avg_rate\",\"label\"]]"
        }, 
        {
            "execution_count": 90, 
            "cell_type": "code", 
            "metadata": {}, 
            "outputs": [], 
            "source": "dummy_variable_1 = pd.get_dummies(df2[\"v_cat\"])"
        }, 
        {
            "execution_count": 91, 
            "cell_type": "code", 
            "metadata": {}, 
            "outputs": [], 
            "source": "df = pd.concat([df2, dummy_variable_1], axis=1)\ndf.drop(\"v_cat\", axis = 1, inplace=True)"
        }, 
        {
            "execution_count": 92, 
            "cell_type": "code", 
            "metadata": {
                "scrolled": true
            }, 
            "outputs": [
                {
                    "execution_count": 92, 
                    "metadata": {}, 
                    "data": {
                        "text/html": "<div>\n<style scoped>\n    .dataframe tbody tr th:only-of-type {\n        vertical-align: middle;\n    }\n\n    .dataframe tbody tr th {\n        vertical-align: top;\n    }\n\n    .dataframe thead th {\n        text-align: right;\n    }\n</style>\n<table border=\"1\" class=\"dataframe\">\n  <thead>\n    <tr style=\"text-align: right;\">\n      <th></th>\n      <th>avg_dist_2_neighborhood</th>\n      <th>cnt_near_neighborhood</th>\n      <th>avg_rate</th>\n      <th>label</th>\n      <th>American Restaurant</th>\n      <th>Asian Restaurant</th>\n      <th>Bakery</th>\n      <th>Bar</th>\n      <th>Caribbean Restaurant</th>\n      <th>Chinese Restaurant</th>\n      <th>Coffee Shop</th>\n      <th>Diner</th>\n      <th>Fast Food Restaurant</th>\n      <th>Food</th>\n      <th>Food Truck</th>\n      <th>Halal Restaurant</th>\n      <th>Indian Restaurant</th>\n      <th>Irish Pub</th>\n      <th>Italian Restaurant</th>\n      <th>Kitchen Supply Store</th>\n      <th>Latin American Restaurant</th>\n      <th>Mexican Restaurant</th>\n      <th>Music Venue</th>\n      <th>Other Nightlife</th>\n      <th>Pizza Place</th>\n      <th>Pub</th>\n      <th>Restaurant</th>\n      <th>Salvadoran Restaurant</th>\n      <th>Sandwich Place</th>\n      <th>Seafood Restaurant</th>\n      <th>Spanish Restaurant</th>\n      <th>Sushi Restaurant</th>\n      <th>Tanning Salon</th>\n    </tr>\n  </thead>\n  <tbody>\n    <tr>\n      <th>0</th>\n      <td>479.0</td>\n      <td>1</td>\n      <td>6.462058</td>\n      <td>0</td>\n      <td>0</td>\n      <td>0</td>\n      <td>0</td>\n      <td>0</td>\n      <td>1</td>\n      <td>0</td>\n      <td>0</td>\n      <td>0</td>\n      <td>0</td>\n      <td>0</td>\n      <td>0</td>\n      <td>0</td>\n      <td>0</td>\n      <td>0</td>\n      <td>0</td>\n      <td>0</td>\n      <td>0</td>\n      <td>0</td>\n      <td>0</td>\n      <td>0</td>\n      <td>0</td>\n      <td>0</td>\n      <td>0</td>\n      <td>0</td>\n      <td>0</td>\n      <td>0</td>\n      <td>0</td>\n      <td>0</td>\n      <td>0</td>\n    </tr>\n    <tr>\n      <th>1</th>\n      <td>904.0</td>\n      <td>1</td>\n      <td>7.180005</td>\n      <td>0</td>\n      <td>0</td>\n      <td>0</td>\n      <td>0</td>\n      <td>0</td>\n      <td>0</td>\n      <td>0</td>\n      <td>0</td>\n      <td>0</td>\n      <td>1</td>\n      <td>0</td>\n      <td>0</td>\n      <td>0</td>\n      <td>0</td>\n      <td>0</td>\n      <td>0</td>\n      <td>0</td>\n      <td>0</td>\n      <td>0</td>\n      <td>0</td>\n      <td>0</td>\n      <td>0</td>\n      <td>0</td>\n      <td>0</td>\n      <td>0</td>\n      <td>0</td>\n      <td>0</td>\n      <td>0</td>\n      <td>0</td>\n      <td>0</td>\n    </tr>\n    <tr>\n      <th>2</th>\n      <td>792.0</td>\n      <td>1</td>\n      <td>7.997693</td>\n      <td>0</td>\n      <td>0</td>\n      <td>0</td>\n      <td>0</td>\n      <td>0</td>\n      <td>1</td>\n      <td>0</td>\n      <td>0</td>\n      <td>0</td>\n      <td>0</td>\n      <td>0</td>\n      <td>0</td>\n      <td>0</td>\n      <td>0</td>\n      <td>0</td>\n      <td>0</td>\n      <td>0</td>\n      <td>0</td>\n      <td>0</td>\n      <td>0</td>\n      <td>0</td>\n      <td>0</td>\n      <td>0</td>\n      <td>0</td>\n      <td>0</td>\n      <td>0</td>\n      <td>0</td>\n      <td>0</td>\n      <td>0</td>\n      <td>0</td>\n    </tr>\n    <tr>\n      <th>3</th>\n      <td>1041.0</td>\n      <td>1</td>\n      <td>7.605170</td>\n      <td>0</td>\n      <td>0</td>\n      <td>0</td>\n      <td>0</td>\n      <td>0</td>\n      <td>0</td>\n      <td>1</td>\n      <td>0</td>\n      <td>0</td>\n      <td>0</td>\n      <td>0</td>\n      <td>0</td>\n      <td>0</td>\n      <td>0</td>\n      <td>0</td>\n      <td>0</td>\n      <td>0</td>\n      <td>0</td>\n      <td>0</td>\n      <td>0</td>\n      <td>0</td>\n      <td>0</td>\n      <td>0</td>\n      <td>0</td>\n      <td>0</td>\n      <td>0</td>\n      <td>0</td>\n      <td>0</td>\n      <td>0</td>\n      <td>0</td>\n    </tr>\n    <tr>\n      <th>4</th>\n      <td>396.0</td>\n      <td>1</td>\n      <td>6.472761</td>\n      <td>0</td>\n      <td>0</td>\n      <td>0</td>\n      <td>0</td>\n      <td>0</td>\n      <td>0</td>\n      <td>0</td>\n      <td>0</td>\n      <td>0</td>\n      <td>0</td>\n      <td>1</td>\n      <td>0</td>\n      <td>0</td>\n      <td>0</td>\n      <td>0</td>\n      <td>0</td>\n      <td>0</td>\n      <td>0</td>\n      <td>0</td>\n      <td>0</td>\n      <td>0</td>\n      <td>0</td>\n      <td>0</td>\n      <td>0</td>\n      <td>0</td>\n      <td>0</td>\n      <td>0</td>\n      <td>0</td>\n      <td>0</td>\n      <td>0</td>\n    </tr>\n  </tbody>\n</table>\n</div>", 
                        "text/plain": "   avg_dist_2_neighborhood  cnt_near_neighborhood  avg_rate label  \\\n0                    479.0                      1  6.462058     0   \n1                    904.0                      1  7.180005     0   \n2                    792.0                      1  7.997693     0   \n3                   1041.0                      1  7.605170     0   \n4                    396.0                      1  6.472761     0   \n\n   American Restaurant  Asian Restaurant  Bakery  Bar  Caribbean Restaurant  \\\n0                    0                 0       0    0                     1   \n1                    0                 0       0    0                     0   \n2                    0                 0       0    0                     1   \n3                    0                 0       0    0                     0   \n4                    0                 0       0    0                     0   \n\n   Chinese Restaurant  Coffee Shop  Diner  Fast Food Restaurant  Food  \\\n0                   0            0      0                     0     0   \n1                   0            0      0                     1     0   \n2                   0            0      0                     0     0   \n3                   1            0      0                     0     0   \n4                   0            0      0                     0     1   \n\n   Food Truck  Halal Restaurant  Indian Restaurant  Irish Pub  \\\n0           0                 0                  0          0   \n1           0                 0                  0          0   \n2           0                 0                  0          0   \n3           0                 0                  0          0   \n4           0                 0                  0          0   \n\n   Italian Restaurant  Kitchen Supply Store  Latin American Restaurant  \\\n0                   0                     0                          0   \n1                   0                     0                          0   \n2                   0                     0                          0   \n3                   0                     0                          0   \n4                   0                     0                          0   \n\n   Mexican Restaurant  Music Venue  Other Nightlife  Pizza Place  Pub  \\\n0                   0            0                0            0    0   \n1                   0            0                0            0    0   \n2                   0            0                0            0    0   \n3                   0            0                0            0    0   \n4                   0            0                0            0    0   \n\n   Restaurant  Salvadoran Restaurant  Sandwich Place  Seafood Restaurant  \\\n0           0                      0               0                   0   \n1           0                      0               0                   0   \n2           0                      0               0                   0   \n3           0                      0               0                   0   \n4           0                      0               0                   0   \n\n   Spanish Restaurant  Sushi Restaurant  Tanning Salon  \n0                   0                 0              0  \n1                   0                 0              0  \n2                   0                 0              0  \n3                   0                 0              0  \n4                   0                 0              0  "
                    }, 
                    "output_type": "execute_result"
                }
            ], 
            "source": "df.head()"
        }, 
        {
            "source": "### 3.3 Classification model", 
            "cell_type": "markdown", 
            "metadata": {}
        }, 
        {
            "source": "The classification models was much more straightforward, with the location and food input features, I need to predict whether these choices , combine together, will bring up one success(1) or failed(0) business.\nHere I have all the data for model training, I will divide them into training set and validation set:", 
            "cell_type": "markdown", 
            "metadata": {}
        }, 
        {
            "execution_count": 93, 
            "cell_type": "code", 
            "metadata": {}, 
            "outputs": [], 
            "source": "y=  np.asarray(df[\"label\"].astype(\"int\"))\nX=  np.asarray(df.drop(\"label\", axis=1))"
        }, 
        {
            "execution_count": 94, 
            "cell_type": "code", 
            "metadata": {}, 
            "outputs": [
                {
                    "output_type": "stream", 
                    "name": "stdout", 
                    "text": "Train set: (97, 32) (97,)\nTest set: (25, 32) (25,)\n"
                }
            ], 
            "source": "X_train, X_test, y_train, y_test = train_test_split( X, y, test_size=0.2, random_state=4)\nprint ('Train set:', X_train.shape,  y_train.shape)\nprint ('Test set:', X_test.shape,  y_test.shape)"
        }, 
        {
            "execution_count": 95, 
            "cell_type": "code", 
            "metadata": {}, 
            "outputs": [], 
            "source": "from sklearn.linear_model import LogisticRegression\nfrom sklearn.metrics import confusion_matrix\n"
        }, 
        {
            "execution_count": 96, 
            "cell_type": "code", 
            "metadata": {}, 
            "outputs": [
                {
                    "execution_count": 96, 
                    "metadata": {}, 
                    "data": {
                        "text/plain": "LogisticRegression(C=0.1, class_weight={0: 0.35, 1: 0.65}, dual=False,\n          fit_intercept=True, intercept_scaling=1, max_iter=100,\n          multi_class='ovr', n_jobs=1, penalty='l2', random_state=None,\n          solver='liblinear', tol=0.0001, verbose=0, warm_start=False)"
                    }, 
                    "output_type": "execute_result"
                }
            ], 
            "source": "LR = LogisticRegression(C=0.1, solver='liblinear',class_weight={1:0.65,0:0.35}).fit(X_train,y_train)\nLR"
        }, 
        {
            "execution_count": 97, 
            "cell_type": "code", 
            "metadata": {}, 
            "outputs": [
                {
                    "execution_count": 97, 
                    "metadata": {}, 
                    "data": {
                        "text/plain": "array([0, 0, 0, 1, 0, 1, 0, 1, 0, 1, 0, 0, 0, 0, 0, 0, 0, 0, 0, 0, 0, 0, 1,\n       0, 0])"
                    }, 
                    "output_type": "execute_result"
                }
            ], 
            "source": "yhat = LR.predict(X_test)\nyhat"
        }, 
        {
            "source": "Lets try jaccard index for accuracy evaluation", 
            "cell_type": "markdown", 
            "metadata": {}
        }, 
        {
            "execution_count": 98, 
            "cell_type": "code", 
            "metadata": {}, 
            "outputs": [
                {
                    "execution_count": 98, 
                    "metadata": {}, 
                    "data": {
                        "text/plain": "0.83999999999999997"
                    }, 
                    "output_type": "execute_result"
                }
            ], 
            "source": "from sklearn.metrics import jaccard_similarity_score\njaccard_similarity_score(y_test, yhat)"
        }, 
        {
            "source": "### 3.4 Evaluation", 
            "cell_type": "markdown", 
            "metadata": {}
        }, 
        {
            "source": "Now , from a comprehensive angle, look at accuracy of classifier through confusion matrix.", 
            "cell_type": "markdown", 
            "metadata": {}
        }, 
        {
            "execution_count": 99, 
            "cell_type": "code", 
            "metadata": {}, 
            "outputs": [
                {
                    "output_type": "stream", 
                    "name": "stdout", 
                    "text": "[[ 2  1]\n [ 3 19]]\n"
                }
            ], 
            "source": "from sklearn.metrics import classification_report, confusion_matrix\nimport itertools\nprint(confusion_matrix(y_test, yhat, labels=[1,0]))"
        }, 
        {
            "execution_count": 100, 
            "cell_type": "code", 
            "metadata": {}, 
            "outputs": [], 
            "source": "# Compute confusion matrix\n\ndef plot_confusion_matrix(cm, classes,\n                          normalize=False,\n                          title='Confusion matrix',\n                          cmap=plt.cm.Blues):\n    \"\"\"\n    This function prints and plots the confusion matrix.\n    Normalization can be applied by setting `normalize=True`.\n    \"\"\"\n    if normalize:\n        cm = cm.astype('float') / cm.sum(axis=1)[:, np.newaxis]\n        print(\"Normalized confusion matrix\")\n    else:\n        print('Confusion matrix, without normalization')\n\n    print(cm)\n\n    plt.imshow(cm, interpolation='nearest', cmap=cmap)\n    plt.title(title)\n    plt.colorbar()\n    tick_marks = np.arange(len(classes))\n    plt.xticks(tick_marks, classes, rotation=45)\n    plt.yticks(tick_marks, classes)\n\n    fmt = '.2f' if normalize else 'd'\n    thresh = cm.max() / 2.\n    for i, j in itertools.product(range(cm.shape[0]), range(cm.shape[1])):\n        plt.text(j, i, format(cm[i, j], fmt),\n                 horizontalalignment=\"center\",\n                 color=\"white\" if cm[i, j] > thresh else \"black\")\n\n    plt.tight_layout()\n    plt.ylabel('True label')\n    plt.xlabel('Predicted label')\n    "
        }, 
        {
            "execution_count": 101, 
            "cell_type": "code", 
            "metadata": {}, 
            "outputs": [
                {
                    "output_type": "stream", 
                    "name": "stdout", 
                    "text": "Confusion matrix, without normalization\n[[ 2  1]\n [ 3 19]]\n"
                }, 
                {
                    "output_type": "display_data", 
                    "data": {
                        "image/png": "[encoded data removed]", 
                        "text/plain": "<matplotlib.figure.Figure at 0x7f6f1413afd0>"
                    }, 
                    "metadata": {}
                }
            ], 
            "source": "cnf_matrix = confusion_matrix(y_test, yhat, labels=[1,0])\nnp.set_printoptions(precision=2)\n# Plot non-normalized confusion matrix\nplt.figure()\nplot_confusion_matrix(cnf_matrix, classes=['churn=1','churn=0'],normalize= False,  title='Confusion matrix')"
        }, 
        {
            "execution_count": null, 
            "cell_type": "code", 
            "metadata": {}, 
            "outputs": [], 
            "source": ""
        }
    ], 
    "metadata": {
        "kernelspec": {
            "display_name": "Python 3.5", 
            "name": "python3", 
            "language": "python"
        }, 
        "language_info": {
            "mimetype": "text/x-python", 
            "nbconvert_exporter": "python", 
            "version": "3.5.5", 
            "name": "python", 
            "file_extension": ".py", 
            "pygments_lexer": "ipython3", 
            "codemirror_mode": {
                "version": 3, 
                "name": "ipython"
            }
        }
    }, 
    "nbformat": 4
}